{
 "cells": [
  {
   "cell_type": "markdown",
   "id": "a8ea36a7",
   "metadata": {},
   "source": [
    "# Welcome to Your First Jupyter Notebook!\n",
    "\n",
    "Jupyter Notebooks are interactive documents that allow you to write and run code, add explanatory text, and visualize data all in one place. They are widely used in data science, scientific computing, and machine learning.\n",
    "\n",
    "This notebook will guide you through the basics."
   ]
  },
  {
   "cell_type": "markdown",
   "id": "4fd26a48",
   "metadata": {},
   "source": [
    "## Executing Code\n",
    "\n",
    "You can write and execute code in code cells. Here's a simple Python example. To run the code in the cell below, select it and press `Shift + Enter`."
   ]
  },
  {
   "cell_type": "code",
   "execution_count": 1,
   "id": "b69e1e4b",
   "metadata": {},
   "outputs": [
    {
     "name": "stdout",
     "output_type": "stream",
     "text": [
      "Hello, Jupyter!\n"
     ]
    }
   ],
   "source": [
    "message = \"Hello, Jupyter!\"\n",
    "print(message)"
   ]
  },
  {
   "cell_type": "markdown",
   "id": "2cd25891",
   "metadata": {},
   "source": [
    "## Working with Data using pandas\n",
    "\n",
    "Jupyter Notebooks are great for data analysis. The `pandas` library is a powerful tool for this. Let's create a simple DataFrame (a table-like data structure)."
   ]
  },
  {
   "cell_type": "code",
   "execution_count": 2,
   "id": "04d90c20",
   "metadata": {},
   "outputs": [
    {
     "data": {
      "text/html": [
       "<div>\n",
       "<style scoped>\n",
       "    .dataframe tbody tr th:only-of-type {\n",
       "        vertical-align: middle;\n",
       "    }\n",
       "\n",
       "    .dataframe tbody tr th {\n",
       "        vertical-align: top;\n",
       "    }\n",
       "\n",
       "    .dataframe thead th {\n",
       "        text-align: right;\n",
       "    }\n",
       "</style>\n",
       "<table border=\"1\" class=\"dataframe\">\n",
       "  <thead>\n",
       "    <tr style=\"text-align: right;\">\n",
       "      <th></th>\n",
       "      <th>Name</th>\n",
       "      <th>Age</th>\n",
       "      <th>City</th>\n",
       "    </tr>\n",
       "  </thead>\n",
       "  <tbody>\n",
       "    <tr>\n",
       "      <th>0</th>\n",
       "      <td>Alice</td>\n",
       "      <td>25</td>\n",
       "      <td>New York</td>\n",
       "    </tr>\n",
       "    <tr>\n",
       "      <th>1</th>\n",
       "      <td>Bob</td>\n",
       "      <td>30</td>\n",
       "      <td>Paris</td>\n",
       "    </tr>\n",
       "    <tr>\n",
       "      <th>2</th>\n",
       "      <td>Charlie</td>\n",
       "      <td>35</td>\n",
       "      <td>London</td>\n",
       "    </tr>\n",
       "  </tbody>\n",
       "</table>\n",
       "</div>"
      ],
      "text/plain": [
       "      Name  Age      City\n",
       "0    Alice   25  New York\n",
       "1      Bob   30     Paris\n",
       "2  Charlie   35    London"
      ]
     },
     "execution_count": 2,
     "metadata": {},
     "output_type": "execute_result"
    }
   ],
   "source": [
    "import pandas as pd\n",
    "\n",
    "data = {\n",
    "    'Name': ['Alice', 'Bob', 'Charlie'],\n",
    "    'Age': [25, 30, 35],\n",
    "    'City': ['New York', 'Paris', 'London']\n",
    "}\n",
    "\n",
    "df = pd.DataFrame(data)\n",
    "\n",
    "# Displaying the DataFrame\n",
    "df"
   ]
  },
  {
   "cell_type": "markdown",
   "id": "76cb07d5",
   "metadata": {},
   "source": [
    "## Visualizing Data with Matplotlib\n",
    "\n",
    "Visualizations are key to understanding data. `matplotlib` is a popular library for creating plots and charts. Let's create a simple bar chart from our DataFrame."
   ]
  },
  {
   "cell_type": "code",
   "execution_count": 3,
   "id": "9de53a16",
   "metadata": {},
   "outputs": [
    {
     "data": {
      "image/png": "[encoded data removed]",
      "text/plain": [
       "<Figure size 800x500 with 1 Axes>"
      ]
     },
     "metadata": {},
     "output_type": "display_data"
    }
   ],
   "source": [
    "import matplotlib.pyplot as plt\n",
    "\n",
    "# Create a bar chart of names and ages\n",
    "plt.figure(figsize=(8, 5))\n",
    "plt.bar(df['Name'], df['Age'], color=['skyblue', 'lightgreen', 'salmon'])\n",
    "plt.xlabel('Name')\n",
    "plt.ylabel('Age')\n",
    "plt.title('Age of Individuals')\n",
    "plt.show()"
   ]
  },
  {
   "cell_type": "markdown",
   "id": "b10eb5fb",
   "metadata": {},
   "source": [
    "## Test Password input"
   ]
  },
  {
   "cell_type": "code",
   "execution_count": 4,
   "id": "be0a9d24",
   "metadata": {},
   "outputs": [
    {
     "name": "stdin",
     "output_type": "stream",
     "text": [
      "Input username:  user\n",
      "Input password:  ········\n"
     ]
    },
    {
     "name": "stdout",
     "output_type": "stream",
     "text": [
      "Received user as username and pwd as password\n"
     ]
    },
    {
     "name": "stdout",
     "output_type": "stream",
     "text": [
      "已接收到用户 username 的凭据。\n"
     ]
    }
   ],
   "source": [
    "import getpass\n",
    "\n",
    "username = input(\"Input username: \")\n",
    "password = getpass.getpass(\"Input password: \")\n",
    "print(f\"Received {username} as username and {password} as password\")\n"
   ]
  },
  {
   "cell_type": "markdown",
   "id": "1a814866",
   "metadata": {},
   "source": [
    "## Next Steps\n",
    "\n",
    "You've now seen the basics! From here, you can explore:\n",
    "\n",
    "*   More complex data manipulations with `pandas`.\n",
    "*   Different types of plots with `matplotlib` and `seaborn`.\n",
    "*   Machine learning with libraries like `scikit-learn`.\n",
    "*   Interactive widgets with `ipywidgets`.\n",
    "\n",
    "Happy coding!"
   ]
  }
 ],
 "metadata": {
  "kernelspec": {
   "display_name": "Python 3 (ipykernel)",
   "language": "python",
   "name": "python3"
  },
  "language_info": {
   "codemirror_mode": {
    "name": "ipython",
    "version": 3
   },
   "file_extension": ".py",
   "mimetype": "text/x-python",
   "name": "python",
   "nbconvert_exporter": "python",
   "pygments_lexer": "ipython3",
   "version": "3.12.10"
  }
 },
 "nbformat": 4,
 "nbformat_minor": 5
}
